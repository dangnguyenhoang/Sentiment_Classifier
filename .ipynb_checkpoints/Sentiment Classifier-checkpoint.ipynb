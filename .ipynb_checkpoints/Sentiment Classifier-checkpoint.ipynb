{
 "cells": [
  {
   "cell_type": "code",
   "execution_count": 1,
   "metadata": {},
   "outputs": [],
   "source": [
    "class Sentiment:\n",
    "    def __init__(self):\n",
    "        return None\n",
    "    \n",
    "    def strip_punctuation(self,word):\n",
    "        punctuation_chars = [\"'\", '\"', \",\", \".\", \"!\", \":\", \";\", '#', '@']\n",
    "        for char in word:\n",
    "            if char in punctuation_chars:\n",
    "                word=word.replace(char,\"\")\n",
    "        return word\n",
    "    \n",
    "    def get_pos(self,sentence):\n",
    "        count=0\n",
    "        sentence=sentence.split(\" \")\n",
    "        positive_words_=self.positive_words()\n",
    "        for word in sentence:\n",
    "            word_stripped=self.strip_punctuation(word)\n",
    "            if word_stripped in positive_words_:\n",
    "                count+=1\n",
    "        return count\n",
    "\n",
    "    def get_neg(self,sentence):\n",
    "        count=0\n",
    "        sentence=sentence.split(\" \")\n",
    "        negative_words_=self.negative_words()\n",
    "        for word in sentence:\n",
    "            word_stripped=self.strip_punctuation(word)\n",
    "            if word_stripped in negative_words_:\n",
    "                count+=1\n",
    "        return count\n",
    "    \n",
    "    def negative_words(self):\n",
    "        negative_words = []\n",
    "        with open(\"negative_words.txt\") as pos_f:\n",
    "            for lin in pos_f:\n",
    "                if lin[0] != ';' and lin[0] != '\\n':\n",
    "                    negative_words.append(lin.strip())\n",
    "        return negative_words\n",
    "\n",
    "    def positive_words(self):\n",
    "        positive_words = []\n",
    "        with open(\"positive_words.txt\") as pos_f:\n",
    "            for lin in pos_f:\n",
    "                if lin[0] != ';' and lin[0] != '\\n':\n",
    "                    positive_words.append(lin.strip())\n",
    "        return positive_words\n",
    "\n",
    "    def process(self):\n",
    "        file_write=open(\"resulting_data.csv\",\"w\")\n",
    "        file_write.write(\"Number of Retweets,Number of Replies,Positive Score,Negative Score,Net Score\")\n",
    "        file_write.write(\"\\n\")\n",
    "        inputfile=open(\"project_twitter_data.csv\",\"r\")\n",
    "        for line in inputfile:\n",
    "            content=self.strip_punctuation(line)\n",
    "            content=line.split(\",\")\n",
    "            if len(content)>1 and content[1]!=\"retweet_count\":\n",
    "                lst=[]\n",
    "                lst.append(content[1])\n",
    "                lst.append(content[2].replace(\"\\n\",\"\"))\n",
    "                lst.append(self.get_pos(content[0]))\n",
    "                lst.append(self.get_neg(content[0]))\n",
    "                lst.append(self.get_pos(content[0])-self.get_neg(content[0]))\n",
    "                row_string=\"{},{},{},{},{}\".format(lst[0], lst[1],lst[2],lst[3],lst[4])\n",
    "                file_write.write(row_string)\n",
    "                file_write.write(\"\\n\")\n",
    "        file_write.close()\n",
    "        print(\"Done\")\n",
    "    \n"
   ]
  },
  {
   "cell_type": "code",
   "execution_count": 2,
   "metadata": {},
   "outputs": [
    {
     "name": "stdout",
     "output_type": "stream",
     "text": [
      "Done\n"
     ]
    }
   ],
   "source": [
    "Sentiment=Sentiment()\n",
    "Sentiment.process()"
   ]
  },
  {
   "cell_type": "code",
   "execution_count": 11,
   "metadata": {},
   "outputs": [],
   "source": [
    "import pandas as pd\n",
    "import matplotlib.pyplot as plt\n",
    "content='resulting_data.csv'\n",
    "df=pd.read_csv(content)\n"
   ]
  },
  {
   "cell_type": "code",
   "execution_count": 14,
   "metadata": {},
   "outputs": [
    {
     "data": {
      "image/png": "[encoded data removed]",
      "text/plain": [
       "<Figure size 432x288 with 1 Axes>"
      ]
     },
     "metadata": {
      "needs_background": "light"
     },
     "output_type": "display_data"
    }
   ],
   "source": [
    "plt.scatter(df[\"Net Score\"],df[\"Number of Retweets\"])\n",
    "plt.title(\"Sample Sentiment Analysis Result\")\n",
    "plt.xlabel(\"Net Sentiment Score\")\n",
    "plt.ylabel(\"Number of Retweets\")\n",
    "plt.grid()\n",
    "plt.show()"
   ]
  },
  {
   "cell_type": "code",
   "execution_count": null,
   "metadata": {},
   "outputs": [],
   "source": []
  },
  {
   "cell_type": "code",
   "execution_count": null,
   "metadata": {},
   "outputs": [],
   "source": []
  }
 ],
 "metadata": {
  "kernelspec": {
   "display_name": "Python 3",
   "language": "python",
   "name": "python3"
  },
  "language_info": {
   "codemirror_mode": {
    "name": "ipython",
    "version": 3
   },
   "file_extension": ".py",
   "mimetype": "text/x-python",
   "name": "python",
   "nbconvert_exporter": "python",
   "pygments_lexer": "ipython3",
   "version": "3.8.5"
  }
 },
 "nbformat": 4,
 "nbformat_minor": 4
}
